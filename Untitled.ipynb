{
 "cells": [
  {
   "cell_type": "code",
   "execution_count": 6,
   "metadata": {},
   "outputs": [
    {
     "ename": "TypeError",
     "evalue": "not all arguments converted during string formatting",
     "output_type": "error",
     "traceback": [
      "\u001b[1;31m---------------------------------------------------------------------------\u001b[0m",
      "\u001b[1;31mTypeError\u001b[0m                                 Traceback (most recent call last)",
      "\u001b[1;32m<ipython-input-6-27ee184b2ef8>\u001b[0m in \u001b[0;36m<module>\u001b[1;34m()\u001b[0m\n\u001b[0;32m      2\u001b[0m \u001b[0msearch\u001b[0m \u001b[1;33m=\u001b[0m \u001b[0mZipcodeSearchEngine\u001b[0m\u001b[1;33m(\u001b[0m\u001b[1;33m)\u001b[0m\u001b[1;33m\u001b[0m\u001b[0m\n\u001b[0;32m      3\u001b[0m \u001b[0mcity_list\u001b[0m\u001b[1;33m=\u001b[0m \u001b[1;33m(\u001b[0m\u001b[1;34m'44101'\u001b[0m\u001b[1;33m,\u001b[0m \u001b[1;34m'44102'\u001b[0m\u001b[1;33m,\u001b[0m \u001b[1;34m'44103'\u001b[0m\u001b[1;33m,\u001b[0m \u001b[1;34m'44104'\u001b[0m\u001b[1;33m,\u001b[0m \u001b[1;34m'44105'\u001b[0m\u001b[1;33m,\u001b[0m \u001b[1;34m'44106'\u001b[0m\u001b[1;33m,\u001b[0m \u001b[1;34m'44107'\u001b[0m\u001b[1;33m,\u001b[0m \u001b[1;34m'44108'\u001b[0m\u001b[1;33m,\u001b[0m \u001b[1;34m'44109'\u001b[0m\u001b[1;33m,\u001b[0m \u001b[1;34m'44110'\u001b[0m\u001b[1;33m,\u001b[0m \u001b[1;34m'44111'\u001b[0m\u001b[1;33m,\u001b[0m \u001b[1;34m'44112'\u001b[0m\u001b[1;33m,\u001b[0m \u001b[1;34m'44113'\u001b[0m\u001b[1;33m,\u001b[0m \u001b[1;34m'44114'\u001b[0m\u001b[1;33m,\u001b[0m \u001b[1;34m'44115'\u001b[0m\u001b[1;33m,\u001b[0m \u001b[1;34m'44117'\u001b[0m\u001b[1;33m,\u001b[0m \u001b[1;34m'44119'\u001b[0m\u001b[1;33m,\u001b[0m \u001b[1;34m'44120'\u001b[0m\u001b[1;33m,\u001b[0m \u001b[1;34m'44121'\u001b[0m\u001b[1;33m,\u001b[0m \u001b[1;34m'44122'\u001b[0m\u001b[1;33m,\u001b[0m \u001b[1;34m'44125'\u001b[0m\u001b[1;33m,\u001b[0m \u001b[1;34m'44127'\u001b[0m\u001b[1;33m,\u001b[0m \u001b[1;34m'44128'\u001b[0m\u001b[1;33m,\u001b[0m \u001b[1;34m'44129'\u001b[0m\u001b[1;33m,\u001b[0m \u001b[1;34m'44130'\u001b[0m\u001b[1;33m,\u001b[0m \u001b[1;34m'44134'\u001b[0m\u001b[1;33m,\u001b[0m \u001b[1;34m'44135'\u001b[0m\u001b[1;33m,\u001b[0m \u001b[1;34m'44142'\u001b[0m\u001b[1;33m,\u001b[0m \u001b[1;34m'44144'\u001b[0m\u001b[1;33m)\u001b[0m\u001b[1;33m\u001b[0m\u001b[0m\n\u001b[1;32m----> 4\u001b[1;33m \u001b[0mzipcode\u001b[0m \u001b[1;33m=\u001b[0m \u001b[0msearch\u001b[0m\u001b[1;33m.\u001b[0m\u001b[0mby_zipcode\u001b[0m\u001b[1;33m(\u001b[0m\u001b[0mcity_list\u001b[0m\u001b[1;33m)\u001b[0m\u001b[1;33m\u001b[0m\u001b[0m\n\u001b[0m\u001b[0;32m      5\u001b[0m \u001b[0mprint\u001b[0m\u001b[1;33m(\u001b[0m\u001b[0mzipcode\u001b[0m\u001b[1;33m)\u001b[0m\u001b[1;33m\u001b[0m\u001b[0m\n",
      "\u001b[1;32m~\\Anaconda3\\lib\\site-packages\\uszipcode\\searchengine.py\u001b[0m in \u001b[0;36mby_zipcode\u001b[1;34m(self, zipcode, standard_only)\u001b[0m\n\u001b[0;32m    471\u001b[0m         \"\"\"\n\u001b[0;32m    472\u001b[0m         \u001b[1;31m# convert zipcode to 5 digits string\u001b[0m\u001b[1;33m\u001b[0m\u001b[1;33m\u001b[0m\u001b[0m\n\u001b[1;32m--> 473\u001b[1;33m         \u001b[0mzipcode\u001b[0m \u001b[1;33m=\u001b[0m \u001b[1;33m(\u001b[0m\u001b[1;34m\"%s\"\u001b[0m \u001b[1;33m%\u001b[0m \u001b[0mzipcode\u001b[0m\u001b[1;33m)\u001b[0m\u001b[1;33m.\u001b[0m\u001b[0mzfill\u001b[0m\u001b[1;33m(\u001b[0m\u001b[1;36m5\u001b[0m\u001b[1;33m)\u001b[0m\u001b[1;33m\u001b[0m\u001b[0m\n\u001b[0m\u001b[0;32m    474\u001b[0m \u001b[1;33m\u001b[0m\u001b[0m\n\u001b[0;32m    475\u001b[0m         \u001b[1;31m# execute query\u001b[0m\u001b[1;33m\u001b[0m\u001b[1;33m\u001b[0m\u001b[0m\n",
      "\u001b[1;31mTypeError\u001b[0m: not all arguments converted during string formatting"
     ]
    }
   ],
   "source": [
    ">>> from uszipcode import ZipcodeSearchEngine\n",
    ">>> search = ZipcodeSearchEngine()\n",
    "city_list= ('44101', '44102', '44103', '44104', '44105', '44106', '44107', '44108', '44109', '44110', '44111', '44112', '44113', '44114', '44115', '44117', '44119', '44120', '44121', '44122', '44125', '44127', '44128', '44129', '44130', '44134', '44135', '44142', '44144')\n",
    ">>> zipcode = search.by_zipcode(city_list)\n",
    ">>> print(zipcode)"
   ]
  },
  {
   "cell_type": "code",
   "execution_count": null,
   "metadata": {},
   "outputs": [],
   "source": []
  }
 ],
 "metadata": {
  "kernelspec": {
   "display_name": "Python 3",
   "language": "python",
   "name": "python3"
  },
  "language_info": {
   "codemirror_mode": {
    "name": "ipython",
    "version": 3
   },
   "file_extension": ".py",
   "mimetype": "text/x-python",
   "name": "python",
   "nbconvert_exporter": "python",
   "pygments_lexer": "ipython3",
   "version": "3.6.5"
  }
 },
 "nbformat": 4,
 "nbformat_minor": 2
}
